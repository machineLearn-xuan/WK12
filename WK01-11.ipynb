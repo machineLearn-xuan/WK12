{
  "cells": [
    {
      "cell_type": "code",
      "execution_count": null,
      "metadata": {
        "colab": {
          "base_uri": "https://localhost:8080/",
          "height": 435
        },
        "id": "BfqoTm9jM1qB",
        "outputId": "a7ffb0e7-c05d-4af5-b3b3-01da6fc28bac"
      },
      "outputs": [],
      "source": [
        "import matplotlib.pyplot as plt\n",
        "import numpy as np\n",
        "\n",
        "from math import pow\n",
        "from sklearn.linear_model import LinearRegression\n",
        "\n",
        "hws = [9, 8,6,5,6, 5,7,8,9,8,1]\n",
        "pns = [10,9,8,9,10,8,9,9,6,5,2]\n",
        "\n",
        "hw_style = {\n",
        "  \"linestyle\": \"\",\n",
        "  \"marker\": \"o\",\n",
        "  \"color\": \"#1f77b4\",\n",
        "  \"label\": \"homeworks\"\n",
        "}\n",
        "\n",
        "pn_style = {\n",
        "  \"linestyle\": \"\",\n",
        "  \"marker\": \"o\",\n",
        "  \"color\": \"#d62728\",\n",
        "  \"label\": \"participations\"\n",
        "}\n",
        "\n",
        "plt.figure(figsize=(8,6))\n",
        "plt.plot(range(1,12), hws, **hw_style)\n",
        "plt.plot(range(1,12), pns, **pn_style)\n",
        "\n",
        "plt.ylim([0, 12])\n",
        "plt.legend()\n",
        "plt.show()"
      ]
    },
    {
      "cell_type": "code",
      "execution_count": null,
      "metadata": {
        "id": "5jRaqM-oNeEg"
      },
      "outputs": [],
      "source": [
        "def predict_plot_participation(deg=1):\n",
        "  x = np.array([[pow(x, n) for n in range(1,deg+1)] for x in np.arange(1, 15)])\n",
        "  x_100 = np.array([[pow(x, n) for n in range(1,deg+1)] for x in np.linspace(1, 14, 100)])\n",
        "\n",
        "  x_train = x[:11, :deg]\n",
        "  x_pred  = x[11:, :deg]\n",
        "  x_plot  = x_100[:, :deg]\n",
        "\n",
        "  hwm = LinearRegression()\n",
        "  hwm.fit(x_train, hws)\n",
        "\n",
        "  pnm = LinearRegression()\n",
        "  pnm.fit(x_train, pns)\n",
        "\n",
        "  hw_rscore = round(hwm.score(x_train, hws), 3)\n",
        "  pn_rscore = round(pnm.score(x_train, pns), 3)\n",
        "\n",
        "  plt.figure(figsize=(8,6))\n",
        "  plt.plot(range(1,15), hws+hwm.predict(x_pred).tolist(), **hw_style)\n",
        "  plt.plot(range(1,15), pns+pnm.predict(x_pred).tolist(), **pn_style)\n",
        "\n",
        "  hwm_style = {\"linestyle\":\"-\", \"marker\":\"\", \"label\": f\"R: {hw_rscore}\", \"color\":hw_style[\"color\"]}\n",
        "  pnm_style = {\"linestyle\":\"-\", \"marker\":\"\", \"label\": f\"R: {pn_rscore}\", \"color\":pn_style[\"color\"]}\n",
        "\n",
        "  plt.plot(x_plot[:,0], hwm.predict(x_plot), **hwm_style)\n",
        "  plt.plot(x_plot[:,0], pnm.predict(x_plot), **pnm_style)\n",
        "\n",
        "  plt.plot([1,14], [0,0], '-', color=\"#000\")\n",
        "  plt.plot([11,11], [-2,12], '--', color=\"#ff7f0e\")\n",
        "\n",
        "  plt.title(f\"Degree: {deg}\")\n",
        "  plt.legend()\n",
        "  plt.ylim(top=12)\n",
        "  plt.show()"
      ]
    },
    {
      "cell_type": "code",
      "execution_count": null,
      "metadata": {
        "colab": {
          "base_uri": "https://localhost:8080/",
          "height": 1000
        },
        "id": "t2FIRvmIU2bJ",
        "outputId": "d0399c99-885e-48e3-fbc1-be3e13cd8d0d"
      },
      "outputs": [],
      "source": [
        "for d in range(1, 4):\n",
        "  predict_plot_participation(d)"
      ]
    }
  ],
  "metadata": {
    "colab": {
      "provenance": []
    },
    "kernelspec": {
      "display_name": "9103",
      "language": "python",
      "name": "python3"
    },
    "language_info": {
      "codemirror_mode": {
        "name": "ipython",
        "version": 3
      },
      "file_extension": ".py",
      "mimetype": "text/x-python",
      "name": "python",
      "nbconvert_exporter": "python",
      "pygments_lexer": "ipython3",
      "version": "3.10.15"
    }
  },
  "nbformat": 4,
  "nbformat_minor": 0
}
